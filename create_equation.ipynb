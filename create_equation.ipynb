{
 "cells": [
  {
   "cell_type": "markdown",
   "metadata": {},
   "source": [
    "$$\n",
    "\\boldsymbol{q}=\\varepsilon \\cdot \\boldsymbol{E}_{G} \\cdot \\boldsymbol{\\sigma A}\\left(\\boldsymbol{T}_{1}^{4}-\\boldsymbol{T}_{2}^{4}\\right)\n",
    "$$"
   ]
  },
  {
   "cell_type": "markdown",
   "metadata": {},
   "source": [
    "$$\n",
    "q=\\varepsilon \\cdot E_{G} \\cdot \\sigma A (T_{1}^{4}-T_{2}^{4})\n",
    "$$"
   ]
  },
  {
   "cell_type": "markdown",
   "metadata": {},
   "source": [
    "$$\n",
    "\\mathrm{d}_{\\mathrm{W}}=\\frac{2\\left(\\mathrm{d}_{0}^{3}-\\mathrm{d}_{\\mathrm{h}}^{3}\\right)}{3\\left(\\mathrm{d}_{0}^{2}-\\mathrm{d}_{\\mathrm{h}}^{2}\\right)}\n",
    "$$"
   ]
  },
  {
   "cell_type": "markdown",
   "metadata": {},
   "source": [
    "$$\n",
    "T=\\frac{F}{2}(\\frac{d_{2}}{\\cos \\alpha} \\mu_{{s}}+\\frac{{P}}{\\pi}+{d}_{{W}} \\mu_{{W}})\n",
    "$$"
   ]
  },
  {
   "cell_type": "markdown",
   "metadata": {},
   "source": [
    "$$\n",
    "F=\\frac{2T}{\\frac{d_2}{\\cos \\alpha}\\mu_{s}+\\frac{P}{\\pi}+d_{W} \\mu_{W}}\n",
    "$$"
   ]
  },
  {
   "cell_type": "markdown",
   "metadata": {
    "ExecuteTime": {
     "end_time": "2020-04-21T19:35:01.921859Z",
     "start_time": "2020-04-21T19:35:01.918860Z"
    }
   },
   "source": [
    "式と変数を確認して、インプットを修正する"
   ]
  },
  {
   "cell_type": "code",
   "execution_count": 3,
   "metadata": {
    "ExecuteTime": {
     "end_time": "2020-05-18T11:04:55.042625Z",
     "start_time": "2020-05-18T11:04:55.034630Z"
    }
   },
   "outputs": [
    {
     "name": "stdout",
     "output_type": "stream",
     "text": [
      "T=F/2((d_(2))/(cos*alpha)mu_(s)+P/pi+d_(W)mu_(W))\n",
      "['pi', 'mu', 'cos', 'P', 'd', 'alpha', 'F', 'T']\n"
     ]
    }
   ],
   "source": [
    "import re\n",
    "# a = \"sigma=(E alpha DeltaT)/(1-nu)*(1)/(1.5+3.25//beta-0.5 exp(-16//beta))\"\n",
    "# a = \"M_(max)=(w*l^(2))/(8)\"\n",
    "# a= \"delta_(max)=(5*w*l^(4))/(384 E*I)\"\n",
    "# a = \"q=epsi*E_(G)*sigma A(T_(1)^(4)-T_(2)^(4))\"\n",
    "# a=\"d_(W)=(2(d_(0)^(3)-d_(h)^(3)))/(3(d_(0)^(2)-d_(h)^(2)))\"\n",
    "a= \"T=F/2((d_(2))/(cos alpha)mu_(s)+P/pi+d_(W)mu_(W))\"\n",
    "# a =\"K=(1.7 xx10^(5))/((delta_(1)+delta_(0))/(lambda_(1))+(delta_(2)+delta_(0))/(lambda_(2)))xx(0.6P)/(H)+(10^(6)lambda_(f))/(delta_(1)+delta_(2))\"\n",
    "shoki_tikan_dict = {\" \":\"*\",\n",
    "                   \"xx\":\"*\",\n",
    "                   \"^\":\"**\",\n",
    "                   \"//\":\"/\"}\n",
    "for i in shoki_tikan_dict:\n",
    "    a = a.replace(i,shoki_tikan_dict[i])\n",
    "    \n",
    "temp = re.sub(\"_\\((.*?)\\)\",\"0\",a)#添字を無視して変数を取得できるよう、_()を0に変換\n",
    "hensu = re.findall(\"[A-Za-z]+\",temp)#変数を抜き出します\n",
    "li_moji = list(set(hensu))#変数の重複を消す\n",
    "print(a)\n",
    "print(li_moji)"
   ]
  },
  {
   "cell_type": "markdown",
   "metadata": {
    "ExecuteTime": {
     "end_time": "2020-04-21T19:35:13.382019Z",
     "start_time": "2020-04-21T19:35:13.378020Z"
    }
   },
   "source": [
    "添字と特殊文字を変換する"
   ]
  },
  {
   "cell_type": "code",
   "execution_count": 4,
   "metadata": {
    "ExecuteTime": {
     "end_time": "2020-05-18T11:06:00.495328Z",
     "start_time": "2020-05-18T11:06:00.481337Z"
    }
   },
   "outputs": [
    {
     "name": "stdout",
     "output_type": "stream",
     "text": [
      "T=F/2((d2)/(cos*α)μs+P/π+dWμW)\n",
      "['F', 'P', 'T', 'cos', 'd2', 'dW', 'α', 'μW', 'μs', 'π']\n"
     ]
    }
   ],
   "source": [
    "moji_dict = {'lambda':\"λ\",\n",
    "             'delta':\"δ\",\n",
    "            'sigma':\"σ\",\n",
    "            'alpha':\"α\",\n",
    "            'DeltaT':\"ΔT\",\n",
    "            'nu':'ν',\n",
    "            'beta':'β',\n",
    "            'epsi':\"ε\",\n",
    "            'pi':'π',\n",
    "            'mu':'μ'}\n",
    "\n",
    "\n",
    "def tikan(moji_retsu,taisho,moji_dict):\n",
    "#     print(taisho)\n",
    "    taisho_temp = taisho+\"_\"\n",
    "    seiki_1 = taisho_temp + \"\\(.*?\\)\"\n",
    "    seiki_2 = taisho_temp + \"\\((.*?)\\)\"\n",
    "    b = re.findall(seiki_1,moji_retsu)\n",
    "\n",
    "    if len(b) != 0:\n",
    "        if taisho in moji_dict:\n",
    "            tikan_moji = moji_dict[taisho]\n",
    "        else:\n",
    "            tikan_moji = taisho\n",
    "#             print(tikan_moji)\n",
    "            \n",
    "        newList = [re.sub(seiki_2,tikan_moji+\"\\\\1\",item) for item in b]\n",
    "        moji_retsu = re.sub(seiki_2,tikan_moji+\"\\\\1\",moji_retsu)\n",
    "\n",
    "    elif taisho in moji_dict:\n",
    "        tikan_moji = moji_dict[taisho]\n",
    "        newList = [tikan_moji]\n",
    "        moji_retsu = moji_retsu.replace(taisho,tikan_moji)\n",
    "\n",
    "    else:\n",
    "        tikan_moji = taisho\n",
    "        newList = [taisho]\n",
    "        \n",
    "    return moji_retsu,newList\n",
    "\n",
    "li=[]\n",
    "for i in li_moji:\n",
    "    a,p = tikan(a,i,moji_dict)\n",
    "    li.extend(p)\n",
    "li=list(set(li))\n",
    "li.sort()\n",
    "\n",
    "a = re.sub(\"\\(([0-9])\\)\",\"\\\\1\",a)\n",
    "print(a)\n",
    "print(li)"
   ]
  },
  {
   "cell_type": "code",
   "execution_count": 5,
   "metadata": {
    "ExecuteTime": {
     "end_time": "2020-05-18T11:06:18.847886Z",
     "start_time": "2020-05-18T11:06:18.841888Z"
    }
   },
   "outputs": [
    {
     "name": "stdout",
     "output_type": "stream",
     "text": [
      "paramater_dict= {\n",
      "    'F':['',''],\n",
      "    'P':['',''],\n",
      "    'T':['',''],\n",
      "    'cos':['',''],\n",
      "    'd2':['',''],\n",
      "    'dW':['',''],\n",
      "    'α':['',''],\n",
      "    'μW':['',''],\n",
      "    'μs':['',''],\n",
      "    'π':['',''],\n",
      "    }\n"
     ]
    }
   ],
   "source": [
    "print(\"paramater_dict= {\")\n",
    "for i in li:\n",
    "    print(\"    \" + \"'\" + i +\"':['',''],\")\n",
    "print(\"    }\")"
   ]
  },
  {
   "cell_type": "code",
   "execution_count": 6,
   "metadata": {
    "ExecuteTime": {
     "end_time": "2020-05-18T11:12:53.064413Z",
     "start_time": "2020-05-18T11:12:53.056420Z"
    }
   },
   "outputs": [],
   "source": [
    "paramater_dict= {\n",
    "    'F':['ボルトの軸力','N'],\n",
    "    'P':['ピッチ','mm'],\n",
    "    'T':['トルク','N・mm'],\n",
    "    'd2':['ねじの有効径','mm'],\n",
    "    'dW':['等価摩擦直径','mm'],\n",
    "    'α':['ねじ山の半角（通常は30°）','°'],\n",
    "    'μW':['座面摩擦係数',''],\n",
    "    'μs':['ねじ面の摩擦係数','']\n",
    "    }"
   ]
  },
  {
   "cell_type": "code",
   "execution_count": 7,
   "metadata": {
    "ExecuteTime": {
     "end_time": "2020-05-18T11:12:56.970783Z",
     "start_time": "2020-05-18T11:12:56.965789Z"
    }
   },
   "outputs": [
    {
     "name": "stdout",
     "output_type": "stream",
     "text": [
      "F = \n",
      "P = \n",
      "T = \n",
      "d2 = \n",
      "dW = \n",
      "α = \n",
      "μW = \n",
      "μs = \n"
     ]
    }
   ],
   "source": [
    "for i in paramater_dict:\n",
    "    print( i + \" = \")"
   ]
  },
  {
   "cell_type": "code",
   "execution_count": 27,
   "metadata": {
    "ExecuteTime": {
     "end_time": "2020-05-18T11:27:07.699016Z",
     "start_time": "2020-05-18T11:27:07.690024Z"
    }
   },
   "outputs": [
    {
     "name": "stdout",
     "output_type": "stream",
     "text": [
      "1093.2657634988152\n",
      "10.0\n",
      "13.555555555555555\n"
     ]
    }
   ],
   "source": [
    "# A = (0.001*0.001)\n",
    "import math\n",
    "F = 10\n",
    "P = 10\n",
    "d2 = 10\n",
    "dW = 10\n",
    "α = 30\n",
    "μW = 10\n",
    "μs = 10\n",
    "d0 = 15\n",
    "dh = 12\n",
    "\n",
    "T=F/2*(d2/math.cos(math.radians(α))*μs+P/math.pi+dW*μW)\n",
    "F=2*T/(d2/math.cos(math.radians(α))*μs+P/math.pi+dW*μW)\n",
    "dW=(2*(d0**3-dh**3))/(3*(d0**2-dh**2))\n",
    "print(T)\n",
    "print(F)\n",
    "print(dW)"
   ]
  },
  {
   "cell_type": "code",
   "execution_count": 21,
   "metadata": {
    "ExecuteTime": {
     "end_time": "2020-05-18T11:18:29.680782Z",
     "start_time": "2020-05-18T11:18:29.669788Z"
    }
   },
   "outputs": [
    {
     "ename": "TypeError",
     "evalue": "'float' object is not callable",
     "output_type": "error",
     "traceback": [
      "\u001b[1;31m---------------------------------------------------------------------------\u001b[0m",
      "\u001b[1;31mTypeError\u001b[0m                                 Traceback (most recent call last)",
      "\u001b[1;32m<ipython-input-21-ab1f55af0858>\u001b[0m in \u001b[0;36m<module>\u001b[1;34m()\u001b[0m\n\u001b[1;32m----> 1\u001b[1;33m \u001b[0mP\u001b[0m\u001b[1;33m/\u001b[0m\u001b[0mmath\u001b[0m\u001b[1;33m.\u001b[0m\u001b[0mpi\u001b[0m\u001b[1;33m(\u001b[0m\u001b[1;33m)\u001b[0m\u001b[1;33m+\u001b[0m\u001b[0mdW\u001b[0m\u001b[1;33m*\u001b[0m\u001b[0mμW\u001b[0m\u001b[1;33m\u001b[0m\u001b[0m\n\u001b[0m",
      "\u001b[1;31mTypeError\u001b[0m: 'float' object is not callable"
     ]
    }
   ],
   "source": [
    "P/math.pi()+dW*μW"
   ]
  },
  {
   "cell_type": "code",
   "execution_count": 23,
   "metadata": {
    "ExecuteTime": {
     "end_time": "2020-05-18T11:18:45.905914Z",
     "start_time": "2020-05-18T11:18:45.899919Z"
    }
   },
   "outputs": [
    {
     "data": {
      "text/plain": [
       "3.141592653589793"
      ]
     },
     "execution_count": 23,
     "metadata": {},
     "output_type": "execute_result"
    }
   ],
   "source": [
    "math.pi"
   ]
  },
  {
   "cell_type": "code",
   "execution_count": 12,
   "metadata": {
    "ExecuteTime": {
     "end_time": "2020-05-14T11:16:48.642118Z",
     "start_time": "2020-05-14T11:16:48.633124Z"
    }
   },
   "outputs": [
    {
     "ename": "TypeError",
     "evalue": "'int' object is not callable",
     "output_type": "error",
     "traceback": [
      "\u001b[1;31m---------------------------------------------------------------------------\u001b[0m",
      "\u001b[1;31mTypeError\u001b[0m                                 Traceback (most recent call last)",
      "\u001b[1;32m<ipython-input-12-64bbbf093bf5>\u001b[0m in \u001b[0;36m<module>\u001b[1;34m()\u001b[0m\n\u001b[1;32m----> 1\u001b[1;33m \u001b[1;36m3\u001b[0m\u001b[1;33m(\u001b[0m\u001b[0mdo\u001b[0m\u001b[1;33m**\u001b[0m\u001b[1;36m2\u001b[0m\u001b[1;33m-\u001b[0m\u001b[0mdh\u001b[0m\u001b[1;33m**\u001b[0m\u001b[1;36m2\u001b[0m\u001b[1;33m)\u001b[0m\u001b[1;33m\u001b[0m\u001b[0m\n\u001b[0m",
      "\u001b[1;31mTypeError\u001b[0m: 'int' object is not callable"
     ]
    }
   ],
   "source": [
    "3(do**2-dh**2)"
   ]
  },
  {
   "cell_type": "code",
   "execution_count": null,
   "metadata": {},
   "outputs": [],
   "source": []
  },
  {
   "cell_type": "code",
   "execution_count": 175,
   "metadata": {
    "ExecuteTime": {
     "end_time": "2020-03-08T05:01:01.671701Z",
     "start_time": "2020-03-08T05:01:01.666702Z"
    }
   },
   "outputs": [],
   "source": [
    "li=[]\n",
    "a,p = tikan(a,\"lambda\",moji_dict)\n",
    "li.extend(p)\n",
    "a,p = tikan(a,\"delta\",moji_dict)\n",
    "li.extend(p)"
   ]
  },
  {
   "cell_type": "code",
   "execution_count": 176,
   "metadata": {
    "ExecuteTime": {
     "end_time": "2020-03-08T05:01:02.885428Z",
     "start_time": "2020-03-08T05:01:02.879432Z"
    }
   },
   "outputs": [
    {
     "data": {
      "text/plain": [
       "{'δ0', 'δ1', 'δ2', 'λ1', 'λ2', 'λf'}"
      ]
     },
     "execution_count": 176,
     "metadata": {},
     "output_type": "execute_result"
    }
   ],
   "source": []
  },
  {
   "cell_type": "code",
   "execution_count": 134,
   "metadata": {
    "ExecuteTime": {
     "end_time": "2020-03-08T01:54:40.873796Z",
     "start_time": "2020-03-08T01:54:40.867800Z"
    }
   },
   "outputs": [
    {
     "data": {
      "text/plain": [
       "['λ1', 'λ2', 'λf', 'δ1', 'δ0', 'δ2', 'δ0', 'δ1', 'δ2']"
      ]
     },
     "execution_count": 134,
     "metadata": {},
     "output_type": "execute_result"
    }
   ],
   "source": [
    "li"
   ]
  },
  {
   "cell_type": "code",
   "execution_count": 127,
   "metadata": {
    "ExecuteTime": {
     "end_time": "2020-03-08T01:53:53.786430Z",
     "start_time": "2020-03-08T01:53:53.780434Z"
    }
   },
   "outputs": [
    {
     "data": {
      "text/plain": [
       "['λ1', 'λ2', 'λf']"
      ]
     },
     "execution_count": 127,
     "metadata": {},
     "output_type": "execute_result"
    }
   ],
   "source": [
    "p"
   ]
  },
  {
   "cell_type": "code",
   "execution_count": 111,
   "metadata": {
    "ExecuteTime": {
     "end_time": "2020-03-08T01:49:23.207877Z",
     "start_time": "2020-03-08T01:49:23.192886Z"
    }
   },
   "outputs": [
    {
     "ename": "AttributeError",
     "evalue": "'NoneType' object has no attribute 'append'",
     "output_type": "error",
     "traceback": [
      "\u001b[1;31m---------------------------------------------------------------------------\u001b[0m",
      "\u001b[1;31mAttributeError\u001b[0m                            Traceback (most recent call last)",
      "\u001b[1;32m<ipython-input-111-95b60b50a2d1>\u001b[0m in \u001b[0;36m<module>\u001b[1;34m()\u001b[0m\n\u001b[1;32m----> 1\u001b[1;33m \u001b[0ma\u001b[0m\u001b[1;33m,\u001b[0m\u001b[0mli\u001b[0m \u001b[1;33m=\u001b[0m \u001b[0mtikan\u001b[0m\u001b[1;33m(\u001b[0m\u001b[0ma\u001b[0m\u001b[1;33m,\u001b[0m\u001b[1;34m\"delta_\"\u001b[0m\u001b[1;33m,\u001b[0m\u001b[1;34m\"δ\"\u001b[0m\u001b[1;33m,\u001b[0m\u001b[0mli\u001b[0m\u001b[1;33m)\u001b[0m\u001b[1;33m\u001b[0m\u001b[0m\n\u001b[0m",
      "\u001b[1;32m<ipython-input-106-6065d20527b7>\u001b[0m in \u001b[0;36mtikan\u001b[1;34m(moji_retsu, taisho, tikan_moji, li)\u001b[0m\n\u001b[0;32m      6\u001b[0m     \u001b[0mnewList\u001b[0m \u001b[1;33m=\u001b[0m \u001b[1;33m[\u001b[0m\u001b[0mre\u001b[0m\u001b[1;33m.\u001b[0m\u001b[0msub\u001b[0m\u001b[1;33m(\u001b[0m\u001b[0mseiki_2\u001b[0m\u001b[1;33m,\u001b[0m\u001b[0mtikan_moji\u001b[0m\u001b[1;33m+\u001b[0m\u001b[1;34m\"\\\\1\"\u001b[0m\u001b[1;33m,\u001b[0m\u001b[0mitem\u001b[0m\u001b[1;33m)\u001b[0m \u001b[1;32mfor\u001b[0m \u001b[0mitem\u001b[0m \u001b[1;32min\u001b[0m \u001b[0mb\u001b[0m\u001b[1;33m]\u001b[0m\u001b[1;33m\u001b[0m\u001b[0m\n\u001b[0;32m      7\u001b[0m     \u001b[0mmoji_retsu\u001b[0m \u001b[1;33m=\u001b[0m \u001b[0mre\u001b[0m\u001b[1;33m.\u001b[0m\u001b[0msub\u001b[0m\u001b[1;33m(\u001b[0m\u001b[0mseiki_2\u001b[0m\u001b[1;33m,\u001b[0m\u001b[0mtikan_moji\u001b[0m\u001b[1;33m+\u001b[0m\u001b[1;34m\"\\\\1\"\u001b[0m\u001b[1;33m,\u001b[0m\u001b[0mmoji_retsu\u001b[0m\u001b[1;33m)\u001b[0m\u001b[1;33m\u001b[0m\u001b[0m\n\u001b[1;32m----> 8\u001b[1;33m     \u001b[1;32mreturn\u001b[0m \u001b[0mmoji_retsu\u001b[0m\u001b[1;33m,\u001b[0m\u001b[0mli\u001b[0m\u001b[1;33m.\u001b[0m\u001b[0mappend\u001b[0m\u001b[1;33m(\u001b[0m\u001b[0mnewList\u001b[0m\u001b[1;33m)\u001b[0m\u001b[1;33m\u001b[0m\u001b[0m\n\u001b[0m",
      "\u001b[1;31mAttributeError\u001b[0m: 'NoneType' object has no attribute 'append'"
     ]
    }
   ],
   "source": [
    "a,li = tikan(a,\"delta_\",\"δ\",li)"
   ]
  },
  {
   "cell_type": "code",
   "execution_count": 62,
   "metadata": {
    "ExecuteTime": {
     "end_time": "2020-03-08T01:15:02.254355Z",
     "start_time": "2020-03-08T01:15:02.248359Z"
    }
   },
   "outputs": [],
   "source": [
    "a =\"K=(1.7 xx10^(5))/((delta_(1)+delta_(0))/(lambda_(11))+(delta_(2)+delta_(0))/(lambda_(2)))xx(0.6P)/(H)+(10^(6)lambda_(fbb))/(delta_(1)+delta_(2))\"\n",
    "a = a.replace(\" \",\"\").replace(\"xx\",\"*\")\n",
    "a = re.sub(\"\\^\\(([0-9])\\)\",\"**\\\\1\",a)\n",
    "b = re.findall(\"lambda_\\(.*?\\)\",a)\n",
    "a = re.sub(\"lambda_\\((.*?)\\)\",\"λ\\\\1\",a)\n",
    "a = re.sub(\"delta_\\((.*?)\\)\",\"λ\\\\1\",a)\n"
   ]
  },
  {
   "cell_type": "code",
   "execution_count": 63,
   "metadata": {
    "ExecuteTime": {
     "end_time": "2020-03-08T01:15:02.647368Z",
     "start_time": "2020-03-08T01:15:02.641371Z"
    }
   },
   "outputs": [
    {
     "data": {
      "text/plain": [
       "['lambda_(11)', 'lambda_(2)', 'lambda_(fbb)']"
      ]
     },
     "execution_count": 63,
     "metadata": {},
     "output_type": "execute_result"
    }
   ],
   "source": [
    "b"
   ]
  },
  {
   "cell_type": "code",
   "execution_count": 66,
   "metadata": {
    "ExecuteTime": {
     "end_time": "2020-03-08T01:18:05.396746Z",
     "start_time": "2020-03-08T01:18:05.392746Z"
    }
   },
   "outputs": [],
   "source": [
    "newList = [re.sub(\"lambda_\\((.*?)\\)\",\"λ\\\\1\",item) for item in b]"
   ]
  },
  {
   "cell_type": "code",
   "execution_count": 67,
   "metadata": {
    "ExecuteTime": {
     "end_time": "2020-03-08T01:18:17.023760Z",
     "start_time": "2020-03-08T01:18:17.017764Z"
    }
   },
   "outputs": [
    {
     "data": {
      "text/plain": [
       "['λ11', 'λ2', 'λfbb']"
      ]
     },
     "execution_count": 67,
     "metadata": {},
     "output_type": "execute_result"
    }
   ],
   "source": [
    "newList"
   ]
  },
  {
   "cell_type": "code",
   "execution_count": 64,
   "metadata": {
    "ExecuteTime": {
     "end_time": "2020-03-08T01:17:00.788917Z",
     "start_time": "2020-03-08T01:17:00.784919Z"
    }
   },
   "outputs": [],
   "source": [
    "list1 = ['item1-1', 'item1-2', 'item1-3']\n",
    "newList = [item + \"-1\" for item in list1]"
   ]
  },
  {
   "cell_type": "code",
   "execution_count": 11,
   "metadata": {
    "ExecuteTime": {
     "end_time": "2020-03-07T21:56:10.780538Z",
     "start_time": "2020-03-07T21:56:10.776538Z"
    }
   },
   "outputs": [],
   "source": [
    "a = \"K=(1.7 xx10^(5))/((delta_(1)+delta_(0))/(lambda_(1))+(delta_(2)+delta_(0))/(lambda_(2)))xx(0.6P)/(H)+(10^(6)lambda_(f))/(delta_(1)+delta_(2))\"\n",
    "\n",
    "a = a.replace(\"^\",\"**\")\n",
    "a = a.replace(\"xx\",\"*\")\n",
    "a = a.replace(\"delta_(\",\"δ\")\n",
    "a = a.replace(\"lambda_(\",\"λ\")"
   ]
  },
  {
   "cell_type": "code",
   "execution_count": 12,
   "metadata": {
    "ExecuteTime": {
     "end_time": "2020-03-07T21:56:11.277057Z",
     "start_time": "2020-03-07T21:56:11.273060Z"
    }
   },
   "outputs": [
    {
     "data": {
      "text/plain": [
       "'K=(1.7 *10**(5))/((δ1)+δ0))/(λ1))+(δ2)+δ0))/(λ2)))*(0.6P)/(H)+(10**(6)λf))/(δ1)+δ2))'"
      ]
     },
     "execution_count": 12,
     "metadata": {},
     "output_type": "execute_result"
    }
   ],
   "source": [
    "a"
   ]
  },
  {
   "cell_type": "code",
   "execution_count": 13,
   "metadata": {
    "ExecuteTime": {
     "end_time": "2020-03-07T22:07:39.245148Z",
     "start_time": "2020-03-07T22:07:39.240153Z"
    }
   },
   "outputs": [
    {
     "ename": "SyntaxError",
     "evalue": "invalid syntax (<ipython-input-13-495ba895a384>, line 1)",
     "output_type": "error",
     "traceback": [
      "\u001b[1;36m  File \u001b[1;32m\"<ipython-input-13-495ba895a384>\"\u001b[1;36m, line \u001b[1;32m1\u001b[0m\n\u001b[1;33m    K=(1.7 *10**5)/((δ1+δ0)/(λ1)+(δ2+δ0)/(λ2))*(0.6P/H)+(10**6*λf)/(δ1+δ2)\u001b[0m\n\u001b[1;37m                                                   ^\u001b[0m\n\u001b[1;31mSyntaxError\u001b[0m\u001b[1;31m:\u001b[0m invalid syntax\n"
     ]
    }
   ],
   "source": [
    "K=(1.7 *10**5)/((δ1+δ0)/(λ1)+(δ2+δ0)/(λ2))*(0.6P/H)+(10**6*λf)/(δ1+δ2)"
   ]
  },
  {
   "cell_type": "code",
   "execution_count": 10,
   "metadata": {
    "ExecuteTime": {
     "end_time": "2020-03-07T03:43:02.952900Z",
     "start_time": "2020-03-07T03:43:02.941904Z"
    }
   },
   "outputs": [],
   "source": [
    "paramater_dict= {\n",
    "    \"K\":[\"接触部のコンダクタンス\",\"W/m2K\"],#この値を接触条件として熱解析へインプット\n",
    "    \"δ1\":[\"材料1の表面粗さ\",\"μm\"],#Ra :中心線平均粗さ\n",
    "    \"δ2\":[\"材料2の表面粗さ\",\"μm\"],#Ra :中心線平均粗さ\n",
    "    \"λ1\":[\"材料1の熱伝導率\",\"W/mK\"],\n",
    "    \"λ2\":[\"材料2の熱伝導率\",\"W/mK\"],\n",
    "    \"λf\":[\"材料間物質の熱伝導率\",\"W/mK\"],#空気など\n",
    "    \"P\":[\"接触面の押付圧力\",\"MPa\"],#ボルト締結による面圧など\n",
    "    \"H\":[\"柔らかい方の材料のビッカース硬さ\",\"kg/mm\"],#つぶれやすい材料は密着するので熱が伝わります\n",
    "    \"δ0\":[\"接触相当長さ(定数)\",\"μm\"]\n",
    "    }\n",
    "\n",
    "δ1 = 32\n",
    "δ2 = 32\n",
    "λ1 = 398#銅\n",
    "λ2 = 398#銅\n",
    "λf = 0.0241#空気\n",
    "P = 1\n",
    "H = 80#銅\n",
    "\n",
    "δ0=23 #定数です(0.5<P<10MPa)\n",
    "K = 1.7*10**6/((δ1+δ0)/λ1+(δ2+δ0)/λ2)*0.6*P/H +10**6*λf/(δ1+δ2)\n"
   ]
  },
  {
   "cell_type": "code",
   "execution_count": 12,
   "metadata": {
    "ExecuteTime": {
     "end_time": "2020-03-07T03:46:43.858801Z",
     "start_time": "2020-03-07T03:46:43.853807Z"
    }
   },
   "outputs": [],
   "source": [
    "paramater_dict= {\n",
    "    \"h\":[\"コンダクタンス\",\"W/m2K\"],\n",
    "    \"λf\":[\"隙間を満たす物質の熱伝導率\",\"W/mK\"],#空気など\n",
    "    \"δ\":[\"接触相当長さ(定数)\",\"μm\"]\n",
    "    }\n",
    "λf = 0.0241#空気\n",
    "δ = 50\n",
    "h = 10**6*λf/δ"
   ]
  },
  {
   "cell_type": "code",
   "execution_count": 6,
   "metadata": {
    "ExecuteTime": {
     "end_time": "2020-03-08T07:11:19.333782Z",
     "start_time": "2020-03-08T07:11:19.328784Z"
    }
   },
   "outputs": [],
   "source": [
    "δ1 = 32\n",
    "δ2 = 32\n",
    "λ1 = 398#銅\n",
    "λ2 = 398#銅\n",
    "λf = 0.0241#空気\n",
    "P = 1\n",
    "H = 80#銅\n",
    "δ0=23 #定数です(0.5<P<10MPa)\n",
    "K=(1.7*10**5)/((δ1+δ0)/(λ1)+(δ2+δ0)/(λ2))*(0.6*P)/H+(10**6*λf)/(δ1+δ2)"
   ]
  },
  {
   "cell_type": "code",
   "execution_count": 7,
   "metadata": {
    "ExecuteTime": {
     "end_time": "2020-03-08T07:11:23.937353Z",
     "start_time": "2020-03-08T07:11:23.932356Z"
    }
   },
   "outputs": [
    {
     "data": {
      "text/plain": [
       "4989.744318181818"
      ]
     },
     "execution_count": 7,
     "metadata": {},
     "output_type": "execute_result"
    }
   ],
   "source": [
    "intK"
   ]
  },
  {
   "cell_type": "code",
   "execution_count": 6,
   "metadata": {
    "ExecuteTime": {
     "end_time": "2020-03-07T03:40:46.641294Z",
     "start_time": "2020-03-07T03:40:46.637298Z"
    }
   },
   "outputs": [
    {
     "name": "stdout",
     "output_type": "stream",
     "text": [
      "K = \n",
      "δ1 = \n",
      "δ2 = \n",
      "λ1 = \n",
      "λ2 = \n",
      "λf = \n",
      "P = \n",
      "H = \n",
      "δ0 = \n"
     ]
    }
   ],
   "source": [
    "for i in paramater_dict:\n",
    "    print(str(i) + \" = \" )"
   ]
  },
  {
   "cell_type": "code",
   "execution_count": 7,
   "metadata": {
    "ExecuteTime": {
     "end_time": "2020-03-07T03:42:04.158384Z",
     "start_time": "2020-03-07T03:42:04.153389Z"
    }
   },
   "outputs": [],
   "source": [
    "δ1 = 16\n",
    "δ2 = 16\n",
    "λ1 = 300\n",
    "λ2 = 300\n",
    "λf = 0.02\n",
    "P = 0.5\n",
    "H = 15"
   ]
  },
  {
   "cell_type": "code",
   "execution_count": 8,
   "metadata": {
    "ExecuteTime": {
     "end_time": "2020-03-07T03:42:04.574707Z",
     "start_time": "2020-03-07T03:42:04.570712Z"
    }
   },
   "outputs": [],
   "source": [
    "δ0=23 #定数です(0.5<P<10MPa)\n",
    "K = 1.7*10**6/((δ1+δ0)/λ1+(δ2+δ0)/λ2)*0.6*P/H +10**6*λf/(δ1+δ2)"
   ]
  },
  {
   "cell_type": "code",
   "execution_count": 9,
   "metadata": {
    "ExecuteTime": {
     "end_time": "2020-03-07T03:42:09.792861Z",
     "start_time": "2020-03-07T03:42:09.778870Z"
    }
   },
   "outputs": [
    {
     "data": {
      "text/plain": [
       "131394.23076923075"
      ]
     },
     "execution_count": 9,
     "metadata": {},
     "output_type": "execute_result"
    }
   ],
   "source": [
    "K"
   ]
  },
  {
   "cell_type": "code",
   "execution_count": null,
   "metadata": {},
   "outputs": [],
   "source": []
  },
  {
   "cell_type": "markdown",
   "metadata": {},
   "source": [
    "$\n",
    "\\mathrm{K}=\\frac{1.7 \\times 10^{5}}{\\frac{\\delta_{1}+\\delta_{0}}{\\lambda_{1}}+\\frac{\\delta_{2}+\\delta_{0}}{\\lambda_{2}}} \\times \\frac{0.6 \\mathrm{P}}{\\mathrm{H}}+\\frac{10^{6} \\lambda_{\\mathrm{f}}}{\\delta_{1}+\\delta_{2}}\n",
    "$"
   ]
  },
  {
   "cell_type": "markdown",
   "metadata": {},
   "source": [
    "K\n",
    "δ1\n",
    "δ0\n",
    "λ1\n",
    "δ2\n",
    "δ0\n",
    "λ2\n",
    "P\n",
    "H\n",
    "λf\n",
    "δ1\n",
    "δ2"
   ]
  },
  {
   "cell_type": "code",
   "execution_count": 2,
   "metadata": {
    "ExecuteTime": {
     "end_time": "2020-03-07T02:22:38.392958Z",
     "start_time": "2020-03-07T02:22:38.377326Z"
    }
   },
   "outputs": [
    {
     "ename": "SyntaxError",
     "evalue": "EOL while scanning string literal (<ipython-input-2-fef24d6018e1>, line 1)",
     "output_type": "error",
     "traceback": [
      "\u001b[1;36m  File \u001b[1;32m\"<ipython-input-2-fef24d6018e1>\"\u001b[1;36m, line \u001b[1;32m1\u001b[0m\n\u001b[1;33m    a =\"K\u001b[0m\n\u001b[1;37m         ^\u001b[0m\n\u001b[1;31mSyntaxError\u001b[0m\u001b[1;31m:\u001b[0m EOL while scanning string literal\n"
     ]
    }
   ],
   "source": [
    "a =\"K\n",
    "δ1\n",
    "δ0\n",
    "λ1\n",
    "δ2\n",
    "δ0\n",
    "λ2\n",
    "P\n",
    "H\n",
    "λf\n",
    "δ1\n",
    "δ2\""
   ]
  },
  {
   "cell_type": "code",
   "execution_count": null,
   "metadata": {},
   "outputs": [],
   "source": []
  },
  {
   "attachments": {
    "image.png": {
     "image/png": "[encoded data removed]"
    }
   },
   "cell_type": "markdown",
   "metadata": {},
   "source": [
    "![image.png](attachment:image.png)"
   ]
  },
  {
   "cell_type": "code",
   "execution_count": 1,
   "metadata": {
    "ExecuteTime": {
     "end_time": "2020-03-06T10:30:24.540530Z",
     "start_time": "2020-03-06T10:30:23.795973Z"
    }
   },
   "outputs": [],
   "source": [
    "from sympy import Symbol,pi,Eq\n",
    "from IPython.display import display\n",
    "４from sympy.interactive import printing\n",
    "printing.init_printing(use_latex=True,order='none')\n",
    "# sympy.init_printing(order='none')"
   ]
  },
  {
   "cell_type": "code",
   "execution_count": 1,
   "metadata": {
    "ExecuteTime": {
     "end_time": "2020-03-06T10:30:45.578220Z",
     "start_time": "2020-03-06T10:30:44.848291Z"
    }
   },
   "outputs": [],
   "source": [
    "import sympy\n",
    "sympy.init_printing(order='none')"
   ]
  },
  {
   "cell_type": "code",
   "execution_count": 3,
   "metadata": {
    "ExecuteTime": {
     "end_time": "2020-03-06T10:31:13.648213Z",
     "start_time": "2020-03-06T10:31:13.645214Z"
    }
   },
   "outputs": [],
   "source": [
    "from sympy import Symbol"
   ]
  },
  {
   "cell_type": "code",
   "execution_count": 4,
   "metadata": {
    "ExecuteTime": {
     "end_time": "2020-03-06T10:31:14.490161Z",
     "start_time": "2020-03-06T10:31:14.482166Z"
    }
   },
   "outputs": [],
   "source": [
    "K= Symbol('K')\n",
    "eK= Symbol('K')\n",
    "W_m2K= Symbol('({W/m^2K})')\n",
    "δ1= Symbol('δ_1')\n",
    "eδ1= Symbol('δ_1')\n",
    "μm= Symbol('(μm)')\n",
    "δ2= Symbol('δ_2')\n",
    "eδ2= Symbol('δ_2')\n",
    "λ1= Symbol('λ_1')\n",
    "eλ1= Symbol('λ_1')\n",
    "W_mK= Symbol('(W/mK)')\n",
    "λ2= Symbol('λ_2')\n",
    "eλ2= Symbol('λ_2')\n",
    "λf= Symbol('λ_f')\n",
    "eλf= Symbol('λ_f')\n",
    "P= Symbol('P')\n",
    "eP= Symbol('P')\n",
    "MPa= Symbol('(MPa)')\n",
    "H= Symbol('H')\n",
    "eH= Symbol('H')\n",
    "kg_mm= Symbol('(kg/mm)')\n",
    "δ0= Symbol('δ_0')\n",
    "eδ0= Symbol('δ_0')"
   ]
  },
  {
   "cell_type": "code",
   "execution_count": 56,
   "metadata": {
    "ExecuteTime": {
     "end_time": "2020-03-06T11:42:57.761885Z",
     "start_time": "2020-03-06T11:42:57.758888Z"
    }
   },
   "outputs": [],
   "source": [
    "a = Symbol(\"a\")"
   ]
  },
  {
   "cell_type": "code",
   "execution_count": 67,
   "metadata": {
    "ExecuteTime": {
     "end_time": "2020-03-06T11:44:47.532525Z",
     "start_time": "2020-03-06T11:44:47.524529Z"
    }
   },
   "outputs": [],
   "source": [
    "b= a**6*λf/(δ1+δ2)"
   ]
  },
  {
   "cell_type": "code",
   "execution_count": 68,
   "metadata": {
    "ExecuteTime": {
     "end_time": "2020-03-06T11:44:52.395151Z",
     "start_time": "2020-03-06T11:44:52.334189Z"
    }
   },
   "outputs": [
    {
     "data": {
      "image/png": "[encoded data removed]",
      "text/latex": [
       "$$\\frac{λ_{f} a^{6}}{δ_{1} + δ_{2}}$$"
      ],
      "text/plain": [
       "      6\n",
       " λ_f⋅a \n",
       "───────\n",
       "δ₁ + δ₂"
      ]
     },
     "execution_count": 68,
     "metadata": {},
     "output_type": "execute_result"
    }
   ],
   "source": [
    "b"
   ]
  },
  {
   "cell_type": "code",
   "execution_count": 69,
   "metadata": {
    "ExecuteTime": {
     "end_time": "2020-03-06T11:45:14.988908Z",
     "start_time": "2020-03-06T11:45:14.927947Z"
    }
   },
   "outputs": [
    {
     "data": {
      "image/png": "[encoded data removed]",
      "text/latex": [
       "$$\\frac{1000000 λ_{f}}{δ_{1} + δ_{2}}$$"
      ],
      "text/plain": [
       "1000000⋅λ_f\n",
       "───────────\n",
       "  δ₁ + δ₂  "
      ]
     },
     "execution_count": 69,
     "metadata": {},
     "output_type": "execute_result"
    }
   ],
   "source": [
    "b.subs(a,10)"
   ]
  },
  {
   "cell_type": "code",
   "execution_count": 64,
   "metadata": {
    "ExecuteTime": {
     "end_time": "2020-03-06T11:44:04.982463Z",
     "start_time": "2020-03-06T11:44:04.977466Z"
    }
   },
   "outputs": [],
   "source": [
    "f = a*10**a/((δ1+δ0)/λ1 + (δ2+δ0)/λ2) * 0.6*P/H"
   ]
  },
  {
   "cell_type": "code",
   "execution_count": 66,
   "metadata": {
    "ExecuteTime": {
     "end_time": "2020-03-06T11:44:31.980431Z",
     "start_time": "2020-03-06T11:44:31.878493Z"
    }
   },
   "outputs": [
    {
     "data": {
      "image/png": "[encoded data removed]",
      "text/latex": [
       "$$\\frac{0.6 P a 10^{a}}{H \\left(\\frac{1}{λ_{1}} \\left(δ_{0} + δ_{1}\\right) + \\frac{1}{λ_{2}} \\left(δ_{0} + δ_{2}\\right)\\right)} + \\frac{1000000 λ_{f}}{δ_{1} + δ_{2}}$$"
      ],
      "text/plain": [
       "               a                   \n",
       "     0.6⋅P⋅a⋅10         1000000⋅λ_f\n",
       "───────────────────── + ───────────\n",
       "  ⎛δ₀ + δ₁   δ₀ + δ₂⎞     δ₁ + δ₂  \n",
       "H⋅⎜─────── + ───────⎟              \n",
       "  ⎝   λ₁        λ₂  ⎠              "
      ]
     },
     "execution_count": 66,
     "metadata": {},
     "output_type": "execute_result"
    }
   ],
   "source": [
    "Add(f,b,evaluate=False)"
   ]
  },
  {
   "cell_type": "code",
   "execution_count": 60,
   "metadata": {
    "ExecuteTime": {
     "end_time": "2020-03-06T11:43:22.579082Z",
     "start_time": "2020-03-06T11:43:22.478146Z"
    }
   },
   "outputs": [
    {
     "data": {
      "image/png": "[encoded data removed]",
      "text/latex": [
       "$$\\frac{1000000 λ_{f}}{δ_{1} + δ_{2}} + \\frac{0.6 P a 10^{a}}{H \\left(\\frac{1}{λ_{1}} \\left(δ_{0} + δ_{1}\\right) + \\frac{1}{λ_{2}} \\left(δ_{0} + δ_{2}\\right)\\right)}$$"
      ],
      "text/plain": [
       "                             a     \n",
       "1000000⋅λ_f        0.6⋅P⋅a⋅10      \n",
       "─────────── + ─────────────────────\n",
       "  δ₁ + δ₂       ⎛δ₀ + δ₁   δ₀ + δ₂⎞\n",
       "              H⋅⎜─────── + ───────⎟\n",
       "                ⎝   λ₁        λ₂  ⎠"
      ]
     },
     "execution_count": 60,
     "metadata": {},
     "output_type": "execute_result"
    }
   ],
   "source": [
    "expr"
   ]
  },
  {
   "cell_type": "code",
   "execution_count": null,
   "metadata": {},
   "outputs": [],
   "source": []
  },
  {
   "cell_type": "code",
   "execution_count": 12,
   "metadata": {
    "ExecuteTime": {
     "end_time": "2020-03-06T10:45:21.616830Z",
     "start_time": "2020-03-06T10:45:21.611833Z"
    }
   },
   "outputs": [],
   "source": [
    "expr = sympy.sympify('x**3+y**3+z**3 -3*x*y*z +x +x', evaluate=False)"
   ]
  },
  {
   "cell_type": "code",
   "execution_count": 21,
   "metadata": {
    "ExecuteTime": {
     "end_time": "2020-03-06T10:55:59.735927Z",
     "start_time": "2020-03-06T10:55:59.636991Z"
    }
   },
   "outputs": [
    {
     "data": {
      "image/png": "[encoded data removed]",
      "text/latex": [
       "$$\\frac{1000000 λ_{f}}{δ_{1} + δ_{2}} + \\frac{102000.0 P}{H \\left(\\frac{1}{λ_{1}} \\left(δ_{0} + δ_{1}\\right) + \\frac{1}{λ_{2}} \\left(δ_{0} + δ_{2}\\right)\\right)}$$"
      ],
      "text/plain": [
       "1000000⋅λ_f         102000.0⋅P     \n",
       "─────────── + ─────────────────────\n",
       "  δ₁ + δ₂       ⎛δ₀ + δ₁   δ₀ + δ₂⎞\n",
       "              H⋅⎜─────── + ───────⎟\n",
       "                ⎝   λ₁        λ₂  ⎠"
      ]
     },
     "execution_count": 21,
     "metadata": {},
     "output_type": "execute_result"
    }
   ],
   "source": [
    "expr"
   ]
  },
  {
   "cell_type": "code",
   "execution_count": 25,
   "metadata": {
    "ExecuteTime": {
     "end_time": "2020-03-06T11:00:13.256191Z",
     "start_time": "2020-03-06T11:00:13.251194Z"
    }
   },
   "outputs": [],
   "source": [
    "from sympy import *\n",
    "x, y, z, t = symbols('x y z t')"
   ]
  },
  {
   "cell_type": "code",
   "execution_count": 26,
   "metadata": {
    "ExecuteTime": {
     "end_time": "2020-03-06T11:00:27.688893Z",
     "start_time": "2020-03-06T11:00:27.648920Z"
    }
   },
   "outputs": [
    {
     "data": {
      "image/png": "[encoded data removed]",
      "text/latex": [
       "$$x + x$$"
      ],
      "text/plain": [
       "x + x"
      ]
     },
     "execution_count": 26,
     "metadata": {},
     "output_type": "execute_result"
    }
   ],
   "source": [
    "Add(x, x, evaluate=False)"
   ]
  },
  {
   "cell_type": "code",
   "execution_count": 44,
   "metadata": {
    "ExecuteTime": {
     "end_time": "2020-03-06T11:16:07.445777Z",
     "start_time": "2020-03-06T11:16:06.765201Z"
    }
   },
   "outputs": [
    {
     "data": {
      "text/plain": [
       "False"
      ]
     },
     "execution_count": 44,
     "metadata": {},
     "output_type": "execute_result"
    }
   ],
   "source": [
    "du(x,x,1,evaluate=False )"
   ]
  },
  {
   "cell_type": "code",
   "execution_count": 50,
   "metadata": {
    "ExecuteTime": {
     "end_time": "2020-03-06T11:20:11.417809Z",
     "start_time": "2020-03-06T11:20:11.409815Z"
    }
   },
   "outputs": [
    {
     "name": "stdout",
     "output_type": "stream",
     "text": [
      "2⋅x\n"
     ]
    }
   ],
   "source": [
    "pprint(x+x,order='none')"
   ]
  },
  {
   "cell_type": "code",
   "execution_count": null,
   "metadata": {},
   "outputs": [],
   "source": []
  },
  {
   "cell_type": "code",
   "execution_count": 28,
   "metadata": {
    "ExecuteTime": {
     "end_time": "2020-03-06T09:57:02.074174Z",
     "start_time": "2020-03-06T09:57:02.065180Z"
    }
   },
   "outputs": [],
   "source": [
    "paramater_dict= {\n",
    "    \"K\":[\"接触熱伝導率\",\"W/m2K\"],\n",
    "    \"δ1\":[\"材料1の表面粗さ\",\"μm\"],\n",
    "    \"δ2\":[\"材料2の表面粗さ\",\"μm\"],\n",
    "    \"λ1\":[\"材料1の熱伝導率\",\"W/mK\"],\n",
    "    \"λ2\":[\"材料2の熱伝導率\",\"W/mK\"],\n",
    "    \"λf\":[\"雰囲気ガスの熱伝導率\",\"W/mK\"],\n",
    "    \"P\":[\"接触面の押付圧力\",\"MPa\"],\n",
    "    \"H\":[\"柔らかい方の材料のビッカース硬さ\",\"kg/mm\"],\n",
    "    \"δ0\":[\"接触相当長さ(定数)\",\"μm\"]\n",
    "    }"
   ]
  },
  {
   "cell_type": "code",
   "execution_count": 26,
   "metadata": {
    "ExecuteTime": {
     "end_time": "2020-03-06T09:56:43.759760Z",
     "start_time": "2020-03-06T09:56:42.621479Z"
    }
   },
   "outputs": [],
   "source": [
    "import pandas as pd\n",
    "import re\n",
    "\n",
    "def create_symbol(paramater_dict):\n",
    "    \"\"\"パラメータ辞書をインプットとして、sympyのシンボルを作成します\n",
    "    Arguments:\n",
    "        paramater_dict {dict} -- \"シンボル名\"：[\"パラメータ名\",\"単位\"]\n",
    "    \"\"\"\n",
    "    out = []\n",
    "    out_g = []\n",
    "    for para in paramater_dict:\n",
    "        #パラメータを作る　二文字以上の場合は下付文字にする　e付は数式表示用\n",
    "        if len(para) !=1:\n",
    "            temp = para[:1]+\"_\"+para[1:]\n",
    "        else:\n",
    "            temp = para\n",
    "        out_g.append(para)\n",
    "\n",
    "        #単位を作成する 数字は上付きにして、_は・に変換する\n",
    "        unit = paramater_dict[para][1]\n",
    "        numerical_list = re.findall('[0-9]' , unit)\n",
    "\n",
    "        if len(numerical_list) != 0:\n",
    "            t = numerical_list[0]\n",
    "            unit = unit.replace(t,\"^\"+t)\n",
    "            unit =  \"{\" + unit +\"}\"\n",
    "        elif unit.find(\"_\") != 0:\n",
    "            unit = unit.replace(\"_\",\" \\cdot \")\n",
    "\n",
    "        unit = \"(\" + unit + \")\"\n",
    "        out.append([para,temp])\n",
    "        out.append([\"e\"+para,temp])\n",
    "        out.append([paramater_dict[para][1],unit])\n",
    "\n",
    "        df = pd.DataFrame(out)\n",
    "        df = df.drop_duplicates()\n",
    "        out = df.values.tolist()\n",
    "    for elm in out:\n",
    "        print(elm[0] +\"= Symbol('\" +elm[1] +\"')\" )\n",
    "    g=\"\"\n",
    "    for elm in out_g:\n",
    "        g = g + elm +\",\"\n",
    "    print(\"global \"+ g[:-1])"
   ]
  },
  {
   "cell_type": "code",
   "execution_count": 29,
   "metadata": {
    "ExecuteTime": {
     "end_time": "2020-03-06T09:57:07.357501Z",
     "start_time": "2020-03-06T09:57:07.325522Z"
    }
   },
   "outputs": [
    {
     "name": "stdout",
     "output_type": "stream",
     "text": [
      "K= Symbol('K')\n",
      "eK= Symbol('K')\n",
      "W/m2K= Symbol('({W/m^2K})')\n",
      "δ1= Symbol('δ_1')\n",
      "eδ1= Symbol('δ_1')\n",
      "μm= Symbol('(μm)')\n",
      "δ2= Symbol('δ_2')\n",
      "eδ2= Symbol('δ_2')\n",
      "λ1= Symbol('λ_1')\n",
      "eλ1= Symbol('λ_1')\n",
      "W/mK= Symbol('(W/mK)')\n",
      "λ2= Symbol('λ_2')\n",
      "eλ2= Symbol('λ_2')\n",
      "λf= Symbol('λ_f')\n",
      "eλf= Symbol('λ_f')\n",
      "P= Symbol('P')\n",
      "eP= Symbol('P')\n",
      "MPa= Symbol('(MPa)')\n",
      "H= Symbol('H')\n",
      "eH= Symbol('H')\n",
      "kg/mm= Symbol('(kg/mm)')\n",
      "δ0= Symbol('δ_0')\n",
      "eδ0= Symbol('δ_0')\n",
      "global K,δ1,δ2,λ1,λ2,λf,P,H,δ0\n"
     ]
    }
   ],
   "source": [
    "create_symbol(paramater_dict)"
   ]
  },
  {
   "cell_type": "code",
   "execution_count": 31,
   "metadata": {
    "ExecuteTime": {
     "end_time": "2020-03-06T09:58:04.890717Z",
     "start_time": "2020-03-06T09:58:04.882722Z"
    }
   },
   "outputs": [],
   "source": []
  },
  {
   "cell_type": "code",
   "execution_count": 1,
   "metadata": {
    "ExecuteTime": {
     "end_time": "2020-03-06T09:19:54.069719Z",
     "start_time": "2020-03-06T09:19:49.640866Z"
    }
   },
   "outputs": [],
   "source": [
    "from sympy import Symbol,pi,Eq\n",
    "from IPython.display import display\n",
    "from sympy.interactive import printing\n",
    "printing.init_printing(use_latex=True)"
   ]
  },
  {
   "cell_type": "code",
   "execution_count": 2,
   "metadata": {
    "ExecuteTime": {
     "end_time": "2020-03-06T09:30:43.627534Z",
     "start_time": "2020-03-06T09:30:43.621538Z"
    }
   },
   "outputs": [],
   "source": [
    "\n",
    "\n",
    "#使用するシンボルはグローバルで定義\n",
    "σmax= Symbol('σ_max')\n",
    "eσmax= Symbol('σ_max')\n",
    "MPa= Symbol('(MPa)')\n",
    "Mmax= Symbol('M_max')\n",
    "eMmax= Symbol('M_max')\n",
    "N_mm= Symbol('(N \\cdot mm)')\n",
    "Z= Symbol('Z')\n",
    "eZ= Symbol('Z')\n",
    "mm3= Symbol('({mm^3})')\n",
    "F= Symbol('F')\n",
    "eF= Symbol('F')\n",
    "N= Symbol('(N)')\n",
    "L= Symbol('L')\n",
    "eL= Symbol('L')\n",
    "mm= Symbol('(mm)')\n"
   ]
  },
  {
   "cell_type": "code",
   "execution_count": 21,
   "metadata": {
    "ExecuteTime": {
     "end_time": "2020-03-06T09:42:24.902012Z",
     "start_time": "2020-03-06T09:42:24.848046Z"
    }
   },
   "outputs": [
    {
     "data": {
      "image/png": "[encoded data removed]",
      "text/latex": [
       "$$\\frac{170000.0}{Z + σ_{max}}$$"
      ],
      "text/plain": [
       "170000.0\n",
       "────────\n",
       "Z + σₘₐₓ"
      ]
     },
     "metadata": {},
     "output_type": "display_data"
    }
   ],
   "source": [
    "display(1.7*10**5/(Z + σmax))"
   ]
  },
  {
   "cell_type": "code",
   "execution_count": 24,
   "metadata": {
    "ExecuteTime": {
     "end_time": "2020-03-06T09:45:40.648963Z",
     "start_time": "2020-03-06T09:45:40.641967Z"
    }
   },
   "outputs": [],
   "source": [
    "from sympy import *\n",
    "\n",
    "# a,b,c,d,x,yを記号として定義\n",
    "var (\"a b c d x y\")\n",
    "\n",
    "expr = d * b*x**2 + a*x**3 + c*x"
   ]
  },
  {
   "cell_type": "code",
   "execution_count": 25,
   "metadata": {
    "ExecuteTime": {
     "end_time": "2020-03-06T09:45:41.100463Z",
     "start_time": "2020-03-06T09:45:41.037504Z"
    }
   },
   "outputs": [
    {
     "data": {
      "image/png": "[encoded data removed]",
      "text/latex": [
       "$$a x^{3} + b d x^{2} + c x$$"
      ],
      "text/plain": [
       "   3        2      \n",
       "a⋅x  + b⋅d⋅x  + c⋅x"
      ]
     },
     "execution_count": 25,
     "metadata": {},
     "output_type": "execute_result"
    }
   ],
   "source": [
    "expr"
   ]
  },
  {
   "cell_type": "code",
   "execution_count": null,
   "metadata": {},
   "outputs": [],
   "source": []
  }
 ],
 "metadata": {
  "kernelspec": {
   "display_name": "Python 3",
   "language": "python",
   "name": "python3"
  },
  "language_info": {
   "codemirror_mode": {
    "name": "ipython",
    "version": 3
   },
   "file_extension": ".py",
   "mimetype": "text/x-python",
   "name": "python",
   "nbconvert_exporter": "python",
   "pygments_lexer": "ipython3",
   "version": "3.6.5"
  },
  "nbTranslate": {
   "displayLangs": [
    "ja",
    "en"
   ],
   "hotkey": "alt-t",
   "langInMainMenu": true,
   "sourceLang": "en",
   "targetLang": "ja",
   "useGoogleTranslate": true
  },
  "toc": {
   "base_numbering": 1,
   "nav_menu": {},
   "number_sections": true,
   "sideBar": true,
   "skip_h1_title": false,
   "title_cell": "Table of Contents",
   "title_sidebar": "Contents",
   "toc_cell": false,
   "toc_position": {},
   "toc_section_display": true,
   "toc_window_display": false
  },
  "varInspector": {
   "cols": {
    "lenName": 16,
    "lenType": 16,
    "lenVar": 40
   },
   "kernels_config": {
    "python": {
     "delete_cmd_postfix": "",
     "delete_cmd_prefix": "del ",
     "library": "var_list.py",
     "varRefreshCmd": "print(var_dic_list())"
    },
    "r": {
     "delete_cmd_postfix": ") ",
     "delete_cmd_prefix": "rm(",
     "library": "var_list.r",
     "varRefreshCmd": "cat(var_dic_list()) "
    }
   },
   "types_to_exclude": [
    "module",
    "function",
    "builtin_function_or_method",
    "instance",
    "_Feature"
   ],
   "window_display": false
  }
 },
 "nbformat": 4,
 "nbformat_minor": 2
}
