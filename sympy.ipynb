{
 "cells": [
  {
   "cell_type": "markdown",
   "metadata": {},
   "source": [
    "jupyterのcode上で、”\\sigma + tab”で、σが使えるようになる。便利!"
   ]
  },
  {
   "cell_type": "markdown",
   "metadata": {},
   "source": [
    "http://www1.kiy.jp/~yoka/LaTeX/latex.html"
   ]
  },
  {
   "cell_type": "code",
   "execution_count": 35,
   "metadata": {},
   "outputs": [
    {
     "name": "stdout",
     "output_type": "stream",
     "text": [
      "曲げ応力は以下の式で表される\n"
     ]
    },
    {
     "data": {
      "image/png": "[encoded data removed]",
      "text/latex": [
       "$$σ_{max} = \\frac{M_{max}}{Z}$$"
      ],
      "text/plain": [
       "       Mₘₐₓ\n",
       "σₘₐₓ = ────\n",
       "        Z  "
      ]
     },
     "metadata": {},
     "output_type": "display_data"
    },
    {
     "name": "stdout",
     "output_type": "stream",
     "text": [
      "ここで\n"
     ]
    },
    {
     "data": {
      "image/png": "[encoded data removed]",
      "text/latex": [
       "$$M_{max} = F L$$"
      ],
      "text/plain": [
       "Mₘₐₓ = F⋅L"
      ]
     },
     "metadata": {},
     "output_type": "display_data"
    },
    {
     "data": {
      "image/png": "[encoded data removed]",
      "text/latex": [
       "$$Z = \\frac{\\pi D^{3}}{32}$$"
      ],
      "text/plain": [
       "       3\n",
       "    π⋅D \n",
       "Z = ────\n",
       "     32 "
      ]
     },
     "metadata": {},
     "output_type": "display_data"
    },
    {
     "name": "stdout",
     "output_type": "stream",
     "text": [
      "各パラメータの値を以下に示す\n"
     ]
    },
    {
     "data": {
      "image/png": "[encoded data removed]",
      "text/latex": [
       "$$F = 1000 (mm)$$"
      ],
      "text/plain": [
       "F = 1000⋅(mm)"
      ]
     },
     "metadata": {},
     "output_type": "display_data"
    },
    {
     "data": {
      "image/png": "[encoded data removed]",
      "text/latex": [
       "$$L = 200 (mm)$$"
      ],
      "text/plain": [
       "L = 200⋅(mm)"
      ]
     },
     "metadata": {},
     "output_type": "display_data"
    },
    {
     "data": {
      "image/png": "[encoded data removed]",
      "text/latex": [
       "$$D = 15 (mm)$$"
      ],
      "text/plain": [
       "D = 15⋅(mm)"
      ]
     },
     "metadata": {},
     "output_type": "display_data"
    },
    {
     "name": "stdout",
     "output_type": "stream",
     "text": [
      "以上より\n"
     ]
    },
    {
     "data": {
      "image/png": "[encoded data removed]",
      "text/latex": [
       "$$M_{max} = 200000 (N \\cdot mm)$$"
      ],
      "text/plain": [
       "Mₘₐₓ = 200000⋅(N \\cdot mm)"
      ]
     },
     "metadata": {},
     "output_type": "display_data"
    },
    {
     "data": {
      "image/png": "[encoded data removed]",
      "text/latex": [
       "$$Z = 331 ({mm^3})$$"
      ],
      "text/plain": [
       "Z = 331⋅({mm__3})"
      ]
     },
     "metadata": {},
     "output_type": "display_data"
    },
    {
     "data": {
      "image/png": "[encoded data removed]",
      "text/latex": [
       "$$σ_{max} = 604 (MPa)$$"
      ],
      "text/plain": [
       "σₘₐₓ = 604⋅(MPa)"
      ]
     },
     "metadata": {},
     "output_type": "display_data"
    }
   ],
   "source": [
    "from sympy import *\n",
    "import re\n",
    "init_printing() #きれいに出力されるらしい\n",
    "\n",
    "ns = locals()\n",
    "def add_symbol(paramater_dict):\n",
    "    for para in paramater_dict:\n",
    "        #二文字以上の場合は下付文字にする\n",
    "        if len(para) !=1:\n",
    "            temp = para[:1]+\"_\"+para[1:]\n",
    "        else:\n",
    "            temp = para\n",
    "        ns[\"e\"+para] = Symbol(temp)\n",
    "        ns[para] = Symbol(temp)\n",
    "        paramater_dict[para].append(Symbol(temp))\n",
    "        \n",
    "        #単位を作成する 数字は上付きにして、_は・に変換する\n",
    "        unit = paramater_dict[para][1]\n",
    "        numerical_list = re.findall('[0-9]' , unit)\n",
    "        \n",
    "        if len(numerical_list) != 0:\n",
    "            t = numerical_list[0]\n",
    "            unit = unit.replace(t,\"^\"+t)\n",
    "            unit =  \"{\" + unit +\"}\"\n",
    "        elif unit.find(\"_\") != 0:\n",
    "            unit = unit.replace(\"_\",\" \\cdot \")\n",
    "        \n",
    "        unit = \"(\" + unit + \")\"\n",
    "        ns[paramater_dict[para][1]] = Symbol(unit)\n",
    "        paramater_dict[para].append(Symbol(unit))\n",
    "    \n",
    "    return paramater_dict\n",
    "\n",
    "rp= {\n",
    "    \"σmax\":[\"曲げ応力\",\"MPa\",0],\n",
    "    \"Mmax\":[\"曲げモーメント\",\"N_mm\",0],\n",
    "    \"Z\":[\"断面係数\",\"mm3\",0]\n",
    "             }\n",
    "rp = add_symbol(rp)\n",
    "\n",
    "p = {\"F\":[\"荷重\",\"N\",1000],\n",
    "    \"L\":[\"棒の長さ\",\"mm\",200],\n",
    "    \"D\":[\"棒の直径\",\"mm\",15]\n",
    "    }\n",
    "p = add_symbol(p)\n",
    "\n",
    "print(\"曲げ応力は以下の式で表される\")\n",
    "σmax = Mmax/Z\n",
    "display(Eq(eσmax,σmax))\n",
    "\n",
    "print(\"ここで\")\n",
    "Mmax = F*L\n",
    "display(Eq(eMmax,Mmax))\n",
    "Z = pi/32*D**3\n",
    "display(Eq(eZ,Z))\n",
    "\n",
    "print(\"各パラメータの値を以下に示す\")\n",
    "F=p[\"F\"][2]\n",
    "L=p[\"L\"][2]\n",
    "D=p[\"D\"][2]\n",
    "display(Eq(eF,F*mm))\n",
    "display(Eq(eL,L*mm))\n",
    "display(Eq(eD,D*mm))\n",
    "\n",
    "print(\"以上より\")\n",
    "Mmax = F*L\n",
    "display(Eq(eMmax,Mmax*N_mm))\n",
    "Z = int(3.14/32*D**3)\n",
    "display(Eq(eZ,Z*mm3))\n",
    "σmax = Mmax/Z\n",
    "display(Eq(eσmax, int(σmax)*MPa))"
   ]
  },
  {
   "cell_type": "code",
   "execution_count": 45,
   "metadata": {},
   "outputs": [
    {
     "name": "stdout",
     "output_type": "stream",
     "text": [
      "F:荷重 1000 N\n",
      "L:棒の長さ 200 mm\n",
      "D:棒の直径 15 mm\n"
     ]
    }
   ],
   "source": [
    "for v in p:\n",
    "    print(v + \":\" + p[v][0] +\" \" + str(p[v][2]) + \" \" + p[v][1])"
   ]
  },
  {
   "cell_type": "code",
   "execution_count": 52,
   "metadata": {
    "scrolled": true
   },
   "outputs": [
    {
     "name": "stdout",
     "output_type": "stream",
     "text": [
      "σmax:曲げ応力 MPa\n",
      "Mmax:曲げモーメント N_mm\n",
      "Z:断面係数 mm3\n"
     ]
    }
   ],
   "source": [
    "for v in rp:\n",
    "    print(v + \":\" + rp[v][0]  + \" \" +rp[v][1])"
   ]
  }
 ],
 "metadata": {
  "kernelspec": {
   "display_name": "Python 3",
   "language": "python",
   "name": "python3"
  },
  "language_info": {
   "codemirror_mode": {
    "name": "ipython",
    "version": 3
   },
   "file_extension": ".py",
   "mimetype": "text/x-python",
   "name": "python",
   "nbconvert_exporter": "python",
   "pygments_lexer": "ipython3",
   "version": "3.7.1"
  },
  "nbTranslate": {
   "displayLangs": [
    "en"
   ],
   "hotkey": "alt-t",
   "langInMainMenu": true,
   "sourceLang": "en",
   "targetLang": "fr",
   "useGoogleTranslate": true
  },
  "toc": {
   "base_numbering": 1,
   "nav_menu": {},
   "number_sections": true,
   "sideBar": true,
   "skip_h1_title": false,
   "title_cell": "Table of Contents",
   "title_sidebar": "Contents",
   "toc_cell": false,
   "toc_position": {},
   "toc_section_display": true,
   "toc_window_display": false
  },
  "varInspector": {
   "cols": {
    "lenName": 16,
    "lenType": 16,
    "lenVar": 40
   },
   "kernels_config": {
    "python": {
     "delete_cmd_postfix": "",
     "delete_cmd_prefix": "del ",
     "library": "var_list.py",
     "varRefreshCmd": "print(var_dic_list())"
    },
    "r": {
     "delete_cmd_postfix": ") ",
     "delete_cmd_prefix": "rm(",
     "library": "var_list.r",
     "varRefreshCmd": "cat(var_dic_list()) "
    }
   },
   "types_to_exclude": [
    "module",
    "function",
    "builtin_function_or_method",
    "instance",
    "_Feature"
   ],
   "window_display": false
  }
 },
 "nbformat": 4,
 "nbformat_minor": 2
}
